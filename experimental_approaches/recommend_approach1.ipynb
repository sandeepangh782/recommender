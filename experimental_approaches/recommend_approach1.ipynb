{
  "nbformat": 4,
  "nbformat_minor": 0,
  "metadata": {
    "colab": {
      "provenance": [],
      "gpuType": "T4"
    },
    "kernelspec": {
      "name": "python3",
      "display_name": "Python 3"
    },
    "language_info": {
      "name": "python"
    },
    "accelerator": "GPU"
  },
  "cells": [
    {
      "cell_type": "code",
      "source": [
        "!pip install scikit-surprise"
      ],
      "metadata": {
        "colab": {
          "base_uri": "https://localhost:8080/"
        },
        "id": "CDQmd01WYMLH",
        "outputId": "469592cc-b157-46c4-d962-44fc29b44662"
      },
      "execution_count": 4,
      "outputs": [
        {
          "output_type": "stream",
          "name": "stdout",
          "text": [
            "Requirement already satisfied: scikit-surprise in /usr/local/lib/python3.11/dist-packages (1.1.4)\n",
            "Requirement already satisfied: joblib>=1.2.0 in /usr/local/lib/python3.11/dist-packages (from scikit-surprise) (1.4.2)\n",
            "Requirement already satisfied: numpy>=1.19.5 in /usr/local/lib/python3.11/dist-packages (from scikit-surprise) (1.26.4)\n",
            "Requirement already satisfied: scipy>=1.6.0 in /usr/local/lib/python3.11/dist-packages (from scikit-surprise) (1.13.1)\n"
          ]
        }
      ]
    },
    {
      "cell_type": "code",
      "execution_count": 19,
      "metadata": {
        "id": "sTyW9q7aXTmi"
      },
      "outputs": [],
      "source": [
        "import pandas as pd\n",
        "import numpy as np\n",
        "from surprise import Reader, Dataset, SVD\n",
        "from surprise.model_selection import train_test_split\n",
        "from sklearn.preprocessing import MultiLabelBinarizer, OneHotEncoder\n",
        "from scipy.sparse import csr_matrix\n",
        "from sklearn.metrics.pairwise import cosine_similarity\n",
        "import gc"
      ]
    },
    {
      "cell_type": "code",
      "source": [
        "user_interactions = pd.read_csv('/content/user_interaction.csv')\n",
        "metadata = pd.read_csv('/content/metadata.csv')"
      ],
      "metadata": {
        "id": "lgM_-jMLYGLW"
      },
      "execution_count": 3,
      "outputs": []
    },
    {
      "cell_type": "code",
      "source": [
        "user_interactions['updated_at'] = pd.to_datetime(user_interactions['updated_at'])\n",
        "metadata['updated_at'] = pd.to_datetime(metadata['updated_at'])\n",
        "metadata['published_at'] = pd.to_datetime(metadata['published_at'])"
      ],
      "metadata": {
        "id": "kyEg20K3YtpA"
      },
      "execution_count": 4,
      "outputs": []
    },
    {
      "cell_type": "code",
      "source": [
        "metadata['category_list'] = metadata['category_name'].str.split(',')"
      ],
      "metadata": {
        "id": "azj0BInNYvwh"
      },
      "execution_count": 5,
      "outputs": []
    },
    {
      "cell_type": "code",
      "source": [
        "user_interactions = user_interactions.head(50000)\n",
        "metadata = metadata.head(50000)\n"
      ],
      "metadata": {
        "id": "YAEQ20cYc87q"
      },
      "execution_count": 6,
      "outputs": []
    },
    {
      "cell_type": "code",
      "source": [
        "metadata"
      ],
      "metadata": {
        "colab": {
          "base_uri": "https://localhost:8080/",
          "height": 617
        },
        "id": "tWvxgq9dYyRc",
        "outputId": "f4ecf6f3-7ddb-41ae-9870-5288f63b1a3f"
      },
      "execution_count": 7,
      "outputs": [
        {
          "output_type": "execute_result",
          "data": {
            "text/plain": [
              "              author_id      pratilipi_id category_name  reading_time  \\\n",
              "0     -3418949279741297  1025741862639304   translation             0   \n",
              "1     -2270332351871840  1377786215601277   translation           171   \n",
              "2     -2270332352037261  1377786215601962   translation            92   \n",
              "3     -2270332352521845  1377786215640994   translation             0   \n",
              "4     -2270332349665658  1377786215931338   translation            47   \n",
              "...                 ...               ...           ...           ...   \n",
              "49995 -2270332352820241  1377786222866768        novels           647   \n",
              "49996 -2270332336036519  1377786222867284        novels          2290   \n",
              "49997 -2941348623349105  1377786222867535        novels           521   \n",
              "49998 -2270332350017603  1377786222868047        novels           467   \n",
              "49999 -2270332351640599  1377786222869081        novels           882   \n",
              "\n",
              "               updated_at        published_at  category_list  \n",
              "0     2020-08-19 15:26:13 2016-09-30 10:37:04  [translation]  \n",
              "1     2021-01-21 16:27:07 2018-06-11 13:17:48  [translation]  \n",
              "2     2020-09-29 12:33:57 2018-06-12 04:19:12  [translation]  \n",
              "3     2019-10-17 09:03:37 2019-09-26 14:58:53  [translation]  \n",
              "4     2020-05-05 11:33:41 2018-11-25 12:28:23  [translation]  \n",
              "...                   ...                 ...            ...  \n",
              "49995 2021-02-28 14:32:38 2021-02-28 14:32:38       [novels]  \n",
              "49996 2021-02-28 15:32:07 2021-02-28 15:32:07       [novels]  \n",
              "49997 2021-03-03 06:31:09 2021-02-28 15:51:38       [novels]  \n",
              "49998 2021-03-01 15:37:48 2021-02-28 17:42:21       [novels]  \n",
              "49999 2021-02-28 18:18:26 2021-02-28 18:06:20       [novels]  \n",
              "\n",
              "[50000 rows x 7 columns]"
            ],
            "text/html": [
              "\n",
              "  <div id=\"df-fd7b5b76-1386-4d6e-a799-740e6eb0ff69\" class=\"colab-df-container\">\n",
              "    <div>\n",
              "<style scoped>\n",
              "    .dataframe tbody tr th:only-of-type {\n",
              "        vertical-align: middle;\n",
              "    }\n",
              "\n",
              "    .dataframe tbody tr th {\n",
              "        vertical-align: top;\n",
              "    }\n",
              "\n",
              "    .dataframe thead th {\n",
              "        text-align: right;\n",
              "    }\n",
              "</style>\n",
              "<table border=\"1\" class=\"dataframe\">\n",
              "  <thead>\n",
              "    <tr style=\"text-align: right;\">\n",
              "      <th></th>\n",
              "      <th>author_id</th>\n",
              "      <th>pratilipi_id</th>\n",
              "      <th>category_name</th>\n",
              "      <th>reading_time</th>\n",
              "      <th>updated_at</th>\n",
              "      <th>published_at</th>\n",
              "      <th>category_list</th>\n",
              "    </tr>\n",
              "  </thead>\n",
              "  <tbody>\n",
              "    <tr>\n",
              "      <th>0</th>\n",
              "      <td>-3418949279741297</td>\n",
              "      <td>1025741862639304</td>\n",
              "      <td>translation</td>\n",
              "      <td>0</td>\n",
              "      <td>2020-08-19 15:26:13</td>\n",
              "      <td>2016-09-30 10:37:04</td>\n",
              "      <td>[translation]</td>\n",
              "    </tr>\n",
              "    <tr>\n",
              "      <th>1</th>\n",
              "      <td>-2270332351871840</td>\n",
              "      <td>1377786215601277</td>\n",
              "      <td>translation</td>\n",
              "      <td>171</td>\n",
              "      <td>2021-01-21 16:27:07</td>\n",
              "      <td>2018-06-11 13:17:48</td>\n",
              "      <td>[translation]</td>\n",
              "    </tr>\n",
              "    <tr>\n",
              "      <th>2</th>\n",
              "      <td>-2270332352037261</td>\n",
              "      <td>1377786215601962</td>\n",
              "      <td>translation</td>\n",
              "      <td>92</td>\n",
              "      <td>2020-09-29 12:33:57</td>\n",
              "      <td>2018-06-12 04:19:12</td>\n",
              "      <td>[translation]</td>\n",
              "    </tr>\n",
              "    <tr>\n",
              "      <th>3</th>\n",
              "      <td>-2270332352521845</td>\n",
              "      <td>1377786215640994</td>\n",
              "      <td>translation</td>\n",
              "      <td>0</td>\n",
              "      <td>2019-10-17 09:03:37</td>\n",
              "      <td>2019-09-26 14:58:53</td>\n",
              "      <td>[translation]</td>\n",
              "    </tr>\n",
              "    <tr>\n",
              "      <th>4</th>\n",
              "      <td>-2270332349665658</td>\n",
              "      <td>1377786215931338</td>\n",
              "      <td>translation</td>\n",
              "      <td>47</td>\n",
              "      <td>2020-05-05 11:33:41</td>\n",
              "      <td>2018-11-25 12:28:23</td>\n",
              "      <td>[translation]</td>\n",
              "    </tr>\n",
              "    <tr>\n",
              "      <th>...</th>\n",
              "      <td>...</td>\n",
              "      <td>...</td>\n",
              "      <td>...</td>\n",
              "      <td>...</td>\n",
              "      <td>...</td>\n",
              "      <td>...</td>\n",
              "      <td>...</td>\n",
              "    </tr>\n",
              "    <tr>\n",
              "      <th>49995</th>\n",
              "      <td>-2270332352820241</td>\n",
              "      <td>1377786222866768</td>\n",
              "      <td>novels</td>\n",
              "      <td>647</td>\n",
              "      <td>2021-02-28 14:32:38</td>\n",
              "      <td>2021-02-28 14:32:38</td>\n",
              "      <td>[novels]</td>\n",
              "    </tr>\n",
              "    <tr>\n",
              "      <th>49996</th>\n",
              "      <td>-2270332336036519</td>\n",
              "      <td>1377786222867284</td>\n",
              "      <td>novels</td>\n",
              "      <td>2290</td>\n",
              "      <td>2021-02-28 15:32:07</td>\n",
              "      <td>2021-02-28 15:32:07</td>\n",
              "      <td>[novels]</td>\n",
              "    </tr>\n",
              "    <tr>\n",
              "      <th>49997</th>\n",
              "      <td>-2941348623349105</td>\n",
              "      <td>1377786222867535</td>\n",
              "      <td>novels</td>\n",
              "      <td>521</td>\n",
              "      <td>2021-03-03 06:31:09</td>\n",
              "      <td>2021-02-28 15:51:38</td>\n",
              "      <td>[novels]</td>\n",
              "    </tr>\n",
              "    <tr>\n",
              "      <th>49998</th>\n",
              "      <td>-2270332350017603</td>\n",
              "      <td>1377786222868047</td>\n",
              "      <td>novels</td>\n",
              "      <td>467</td>\n",
              "      <td>2021-03-01 15:37:48</td>\n",
              "      <td>2021-02-28 17:42:21</td>\n",
              "      <td>[novels]</td>\n",
              "    </tr>\n",
              "    <tr>\n",
              "      <th>49999</th>\n",
              "      <td>-2270332351640599</td>\n",
              "      <td>1377786222869081</td>\n",
              "      <td>novels</td>\n",
              "      <td>882</td>\n",
              "      <td>2021-02-28 18:18:26</td>\n",
              "      <td>2021-02-28 18:06:20</td>\n",
              "      <td>[novels]</td>\n",
              "    </tr>\n",
              "  </tbody>\n",
              "</table>\n",
              "<p>50000 rows × 7 columns</p>\n",
              "</div>\n",
              "    <div class=\"colab-df-buttons\">\n",
              "\n",
              "  <div class=\"colab-df-container\">\n",
              "    <button class=\"colab-df-convert\" onclick=\"convertToInteractive('df-fd7b5b76-1386-4d6e-a799-740e6eb0ff69')\"\n",
              "            title=\"Convert this dataframe to an interactive table.\"\n",
              "            style=\"display:none;\">\n",
              "\n",
              "  <svg xmlns=\"http://www.w3.org/2000/svg\" height=\"24px\" viewBox=\"0 -960 960 960\">\n",
              "    <path d=\"M120-120v-720h720v720H120Zm60-500h600v-160H180v160Zm220 220h160v-160H400v160Zm0 220h160v-160H400v160ZM180-400h160v-160H180v160Zm440 0h160v-160H620v160ZM180-180h160v-160H180v160Zm440 0h160v-160H620v160Z\"/>\n",
              "  </svg>\n",
              "    </button>\n",
              "\n",
              "  <style>\n",
              "    .colab-df-container {\n",
              "      display:flex;\n",
              "      gap: 12px;\n",
              "    }\n",
              "\n",
              "    .colab-df-convert {\n",
              "      background-color: #E8F0FE;\n",
              "      border: none;\n",
              "      border-radius: 50%;\n",
              "      cursor: pointer;\n",
              "      display: none;\n",
              "      fill: #1967D2;\n",
              "      height: 32px;\n",
              "      padding: 0 0 0 0;\n",
              "      width: 32px;\n",
              "    }\n",
              "\n",
              "    .colab-df-convert:hover {\n",
              "      background-color: #E2EBFA;\n",
              "      box-shadow: 0px 1px 2px rgba(60, 64, 67, 0.3), 0px 1px 3px 1px rgba(60, 64, 67, 0.15);\n",
              "      fill: #174EA6;\n",
              "    }\n",
              "\n",
              "    .colab-df-buttons div {\n",
              "      margin-bottom: 4px;\n",
              "    }\n",
              "\n",
              "    [theme=dark] .colab-df-convert {\n",
              "      background-color: #3B4455;\n",
              "      fill: #D2E3FC;\n",
              "    }\n",
              "\n",
              "    [theme=dark] .colab-df-convert:hover {\n",
              "      background-color: #434B5C;\n",
              "      box-shadow: 0px 1px 3px 1px rgba(0, 0, 0, 0.15);\n",
              "      filter: drop-shadow(0px 1px 2px rgba(0, 0, 0, 0.3));\n",
              "      fill: #FFFFFF;\n",
              "    }\n",
              "  </style>\n",
              "\n",
              "    <script>\n",
              "      const buttonEl =\n",
              "        document.querySelector('#df-fd7b5b76-1386-4d6e-a799-740e6eb0ff69 button.colab-df-convert');\n",
              "      buttonEl.style.display =\n",
              "        google.colab.kernel.accessAllowed ? 'block' : 'none';\n",
              "\n",
              "      async function convertToInteractive(key) {\n",
              "        const element = document.querySelector('#df-fd7b5b76-1386-4d6e-a799-740e6eb0ff69');\n",
              "        const dataTable =\n",
              "          await google.colab.kernel.invokeFunction('convertToInteractive',\n",
              "                                                    [key], {});\n",
              "        if (!dataTable) return;\n",
              "\n",
              "        const docLinkHtml = 'Like what you see? Visit the ' +\n",
              "          '<a target=\"_blank\" href=https://colab.research.google.com/notebooks/data_table.ipynb>data table notebook</a>'\n",
              "          + ' to learn more about interactive tables.';\n",
              "        element.innerHTML = '';\n",
              "        dataTable['output_type'] = 'display_data';\n",
              "        await google.colab.output.renderOutput(dataTable, element);\n",
              "        const docLink = document.createElement('div');\n",
              "        docLink.innerHTML = docLinkHtml;\n",
              "        element.appendChild(docLink);\n",
              "      }\n",
              "    </script>\n",
              "  </div>\n",
              "\n",
              "\n",
              "<div id=\"df-16c394b6-62c2-42b1-9f90-fa8f18f78b0a\">\n",
              "  <button class=\"colab-df-quickchart\" onclick=\"quickchart('df-16c394b6-62c2-42b1-9f90-fa8f18f78b0a')\"\n",
              "            title=\"Suggest charts\"\n",
              "            style=\"display:none;\">\n",
              "\n",
              "<svg xmlns=\"http://www.w3.org/2000/svg\" height=\"24px\"viewBox=\"0 0 24 24\"\n",
              "     width=\"24px\">\n",
              "    <g>\n",
              "        <path d=\"M19 3H5c-1.1 0-2 .9-2 2v14c0 1.1.9 2 2 2h14c1.1 0 2-.9 2-2V5c0-1.1-.9-2-2-2zM9 17H7v-7h2v7zm4 0h-2V7h2v10zm4 0h-2v-4h2v4z\"/>\n",
              "    </g>\n",
              "</svg>\n",
              "  </button>\n",
              "\n",
              "<style>\n",
              "  .colab-df-quickchart {\n",
              "      --bg-color: #E8F0FE;\n",
              "      --fill-color: #1967D2;\n",
              "      --hover-bg-color: #E2EBFA;\n",
              "      --hover-fill-color: #174EA6;\n",
              "      --disabled-fill-color: #AAA;\n",
              "      --disabled-bg-color: #DDD;\n",
              "  }\n",
              "\n",
              "  [theme=dark] .colab-df-quickchart {\n",
              "      --bg-color: #3B4455;\n",
              "      --fill-color: #D2E3FC;\n",
              "      --hover-bg-color: #434B5C;\n",
              "      --hover-fill-color: #FFFFFF;\n",
              "      --disabled-bg-color: #3B4455;\n",
              "      --disabled-fill-color: #666;\n",
              "  }\n",
              "\n",
              "  .colab-df-quickchart {\n",
              "    background-color: var(--bg-color);\n",
              "    border: none;\n",
              "    border-radius: 50%;\n",
              "    cursor: pointer;\n",
              "    display: none;\n",
              "    fill: var(--fill-color);\n",
              "    height: 32px;\n",
              "    padding: 0;\n",
              "    width: 32px;\n",
              "  }\n",
              "\n",
              "  .colab-df-quickchart:hover {\n",
              "    background-color: var(--hover-bg-color);\n",
              "    box-shadow: 0 1px 2px rgba(60, 64, 67, 0.3), 0 1px 3px 1px rgba(60, 64, 67, 0.15);\n",
              "    fill: var(--button-hover-fill-color);\n",
              "  }\n",
              "\n",
              "  .colab-df-quickchart-complete:disabled,\n",
              "  .colab-df-quickchart-complete:disabled:hover {\n",
              "    background-color: var(--disabled-bg-color);\n",
              "    fill: var(--disabled-fill-color);\n",
              "    box-shadow: none;\n",
              "  }\n",
              "\n",
              "  .colab-df-spinner {\n",
              "    border: 2px solid var(--fill-color);\n",
              "    border-color: transparent;\n",
              "    border-bottom-color: var(--fill-color);\n",
              "    animation:\n",
              "      spin 1s steps(1) infinite;\n",
              "  }\n",
              "\n",
              "  @keyframes spin {\n",
              "    0% {\n",
              "      border-color: transparent;\n",
              "      border-bottom-color: var(--fill-color);\n",
              "      border-left-color: var(--fill-color);\n",
              "    }\n",
              "    20% {\n",
              "      border-color: transparent;\n",
              "      border-left-color: var(--fill-color);\n",
              "      border-top-color: var(--fill-color);\n",
              "    }\n",
              "    30% {\n",
              "      border-color: transparent;\n",
              "      border-left-color: var(--fill-color);\n",
              "      border-top-color: var(--fill-color);\n",
              "      border-right-color: var(--fill-color);\n",
              "    }\n",
              "    40% {\n",
              "      border-color: transparent;\n",
              "      border-right-color: var(--fill-color);\n",
              "      border-top-color: var(--fill-color);\n",
              "    }\n",
              "    60% {\n",
              "      border-color: transparent;\n",
              "      border-right-color: var(--fill-color);\n",
              "    }\n",
              "    80% {\n",
              "      border-color: transparent;\n",
              "      border-right-color: var(--fill-color);\n",
              "      border-bottom-color: var(--fill-color);\n",
              "    }\n",
              "    90% {\n",
              "      border-color: transparent;\n",
              "      border-bottom-color: var(--fill-color);\n",
              "    }\n",
              "  }\n",
              "</style>\n",
              "\n",
              "  <script>\n",
              "    async function quickchart(key) {\n",
              "      const quickchartButtonEl =\n",
              "        document.querySelector('#' + key + ' button');\n",
              "      quickchartButtonEl.disabled = true;  // To prevent multiple clicks.\n",
              "      quickchartButtonEl.classList.add('colab-df-spinner');\n",
              "      try {\n",
              "        const charts = await google.colab.kernel.invokeFunction(\n",
              "            'suggestCharts', [key], {});\n",
              "      } catch (error) {\n",
              "        console.error('Error during call to suggestCharts:', error);\n",
              "      }\n",
              "      quickchartButtonEl.classList.remove('colab-df-spinner');\n",
              "      quickchartButtonEl.classList.add('colab-df-quickchart-complete');\n",
              "    }\n",
              "    (() => {\n",
              "      let quickchartButtonEl =\n",
              "        document.querySelector('#df-16c394b6-62c2-42b1-9f90-fa8f18f78b0a button');\n",
              "      quickchartButtonEl.style.display =\n",
              "        google.colab.kernel.accessAllowed ? 'block' : 'none';\n",
              "    })();\n",
              "  </script>\n",
              "</div>\n",
              "\n",
              "  <div id=\"id_096203c8-21b5-4cb3-841c-db05b3d01939\">\n",
              "    <style>\n",
              "      .colab-df-generate {\n",
              "        background-color: #E8F0FE;\n",
              "        border: none;\n",
              "        border-radius: 50%;\n",
              "        cursor: pointer;\n",
              "        display: none;\n",
              "        fill: #1967D2;\n",
              "        height: 32px;\n",
              "        padding: 0 0 0 0;\n",
              "        width: 32px;\n",
              "      }\n",
              "\n",
              "      .colab-df-generate:hover {\n",
              "        background-color: #E2EBFA;\n",
              "        box-shadow: 0px 1px 2px rgba(60, 64, 67, 0.3), 0px 1px 3px 1px rgba(60, 64, 67, 0.15);\n",
              "        fill: #174EA6;\n",
              "      }\n",
              "\n",
              "      [theme=dark] .colab-df-generate {\n",
              "        background-color: #3B4455;\n",
              "        fill: #D2E3FC;\n",
              "      }\n",
              "\n",
              "      [theme=dark] .colab-df-generate:hover {\n",
              "        background-color: #434B5C;\n",
              "        box-shadow: 0px 1px 3px 1px rgba(0, 0, 0, 0.15);\n",
              "        filter: drop-shadow(0px 1px 2px rgba(0, 0, 0, 0.3));\n",
              "        fill: #FFFFFF;\n",
              "      }\n",
              "    </style>\n",
              "    <button class=\"colab-df-generate\" onclick=\"generateWithVariable('metadata')\"\n",
              "            title=\"Generate code using this dataframe.\"\n",
              "            style=\"display:none;\">\n",
              "\n",
              "  <svg xmlns=\"http://www.w3.org/2000/svg\" height=\"24px\"viewBox=\"0 0 24 24\"\n",
              "       width=\"24px\">\n",
              "    <path d=\"M7,19H8.4L18.45,9,17,7.55,7,17.6ZM5,21V16.75L18.45,3.32a2,2,0,0,1,2.83,0l1.4,1.43a1.91,1.91,0,0,1,.58,1.4,1.91,1.91,0,0,1-.58,1.4L9.25,21ZM18.45,9,17,7.55Zm-12,3A5.31,5.31,0,0,0,4.9,8.1,5.31,5.31,0,0,0,1,6.5,5.31,5.31,0,0,0,4.9,4.9,5.31,5.31,0,0,0,6.5,1,5.31,5.31,0,0,0,8.1,4.9,5.31,5.31,0,0,0,12,6.5,5.46,5.46,0,0,0,6.5,12Z\"/>\n",
              "  </svg>\n",
              "    </button>\n",
              "    <script>\n",
              "      (() => {\n",
              "      const buttonEl =\n",
              "        document.querySelector('#id_096203c8-21b5-4cb3-841c-db05b3d01939 button.colab-df-generate');\n",
              "      buttonEl.style.display =\n",
              "        google.colab.kernel.accessAllowed ? 'block' : 'none';\n",
              "\n",
              "      buttonEl.onclick = () => {\n",
              "        google.colab.notebook.generateWithVariable('metadata');\n",
              "      }\n",
              "      })();\n",
              "    </script>\n",
              "  </div>\n",
              "\n",
              "    </div>\n",
              "  </div>\n"
            ],
            "application/vnd.google.colaboratory.intrinsic+json": {
              "type": "dataframe",
              "variable_name": "metadata",
              "summary": "{\n  \"name\": \"metadata\",\n  \"rows\": 50000,\n  \"fields\": [\n    {\n      \"column\": \"author_id\",\n      \"properties\": {\n        \"dtype\": \"number\",\n        \"std\": 396696899600686,\n        \"min\": -9070332352853360,\n        \"max\": -2270332315598385,\n        \"num_unique_values\": 6326,\n        \"samples\": [\n          -2270332343182770,\n          -2270332329361403,\n          -2270332340443518\n        ],\n        \"semantic_type\": \"\",\n        \"description\": \"\"\n      }\n    },\n    {\n      \"column\": \"pratilipi_id\",\n      \"properties\": {\n        \"dtype\": \"number\",\n        \"std\": 87589033284614,\n        \"min\": -868936443586872,\n        \"max\": 1377786228383642,\n        \"num_unique_values\": 49041,\n        \"samples\": [\n          1377786219555103,\n          1377786227490274,\n          1377786221631166\n        ],\n        \"semantic_type\": \"\",\n        \"description\": \"\"\n      }\n    },\n    {\n      \"column\": \"category_name\",\n      \"properties\": {\n        \"dtype\": \"category\",\n        \"num_unique_values\": 5,\n        \"samples\": [\n          \"relegion-and-spiritual\",\n          \"novels\",\n          \"crime\"\n        ],\n        \"semantic_type\": \"\",\n        \"description\": \"\"\n      }\n    },\n    {\n      \"column\": \"reading_time\",\n      \"properties\": {\n        \"dtype\": \"number\",\n        \"std\": 1154,\n        \"min\": 0,\n        \"max\": 78983,\n        \"num_unique_values\": 2439,\n        \"samples\": [\n          305,\n          69,\n          516\n        ],\n        \"semantic_type\": \"\",\n        \"description\": \"\"\n      }\n    },\n    {\n      \"column\": \"updated_at\",\n      \"properties\": {\n        \"dtype\": \"date\",\n        \"min\": \"2018-09-24 01:33:32\",\n        \"max\": \"2022-03-23 20:07:10\",\n        \"num_unique_values\": 47575,\n        \"samples\": [\n          \"2021-01-27 10:51:42\",\n          \"2020-11-10 12:00:00\",\n          \"2020-01-23 10:07:12\"\n        ],\n        \"semantic_type\": \"\",\n        \"description\": \"\"\n      }\n    },\n    {\n      \"column\": \"published_at\",\n      \"properties\": {\n        \"dtype\": \"date\",\n        \"min\": \"2014-10-25 13:35:28\",\n        \"max\": \"2022-03-23 18:59:02\",\n        \"num_unique_values\": 48896,\n        \"samples\": [\n          \"2020-09-23 05:41:59\",\n          \"2020-06-04 19:28:12\",\n          \"2020-06-19 06:55:45\"\n        ],\n        \"semantic_type\": \"\",\n        \"description\": \"\"\n      }\n    },\n    {\n      \"column\": \"category_list\",\n      \"properties\": {\n        \"dtype\": \"object\",\n        \"semantic_type\": \"\",\n        \"description\": \"\"\n      }\n    }\n  ]\n}"
            }
          },
          "metadata": {},
          "execution_count": 7
        }
      ]
    },
    {
      "cell_type": "code",
      "source": [
        "reader = Reader(rating_scale=(0, 100))\n",
        "data = Dataset.load_from_df(\n",
        "    user_interactions[['user_id', 'pratilipi_id', 'read_percent']],\n",
        "    reader\n",
        ")\n"
      ],
      "metadata": {
        "id": "PDw5c2lNZ-L2"
      },
      "execution_count": 8,
      "outputs": []
    },
    {
      "cell_type": "code",
      "source": [
        "trainset, testset = train_test_split(data, test_size=0.25)"
      ],
      "metadata": {
        "id": "8CvfdAgCZ_pT"
      },
      "execution_count": 9,
      "outputs": []
    },
    {
      "cell_type": "code",
      "source": [
        "svd_model = SVD(n_factors=50, n_epochs=20, random_state=42)\n",
        "svd_model.fit(trainset)"
      ],
      "metadata": {
        "colab": {
          "base_uri": "https://localhost:8080/"
        },
        "id": "fIoylJj5aKs9",
        "outputId": "30ed3099-0048-4066-c825-192d5ce25bf7"
      },
      "execution_count": 10,
      "outputs": [
        {
          "output_type": "execute_result",
          "data": {
            "text/plain": [
              "<surprise.prediction_algorithms.matrix_factorization.SVD at 0x78e93af6f090>"
            ]
          },
          "metadata": {},
          "execution_count": 10
        }
      ]
    },
    {
      "cell_type": "code",
      "source": [
        "mlb = MultiLabelBinarizer()\n",
        "category_matrix = mlb.fit_transform(metadata['category_list'])\n",
        "category_df = pd.DataFrame(\n",
        "    category_matrix,\n",
        "    columns=mlb.classes_,\n",
        "    index=metadata['pratilipi_id']\n",
        ")"
      ],
      "metadata": {
        "id": "IgxFl7P-aP_V"
      },
      "execution_count": 11,
      "outputs": []
    },
    {
      "cell_type": "code",
      "source": [
        "author_ids = metadata['author_id'].astype(str)  # Convert to string to be safe\n",
        "author_encoder = OneHotEncoder(sparse_output=False)\n",
        "author_matrix = author_encoder.fit_transform(author_ids.values.reshape(-1, 1))\n",
        "author_df = pd.DataFrame(\n",
        "    author_matrix,\n",
        "    columns=[f'author_{i}' for i in range(author_matrix.shape[1])],\n",
        "    index=metadata['pratilipi_id']\n",
        ")\n"
      ],
      "metadata": {
        "id": "sDItRIRUaQYn"
      },
      "execution_count": 20,
      "outputs": []
    },
    {
      "cell_type": "code",
      "source": [
        "reading_time_df = pd.DataFrame(\n",
        "    metadata['reading_time'] / metadata['reading_time'].max(),\n",
        "    columns=['reading_time_norm'],\n",
        "    index=metadata['pratilipi_id']\n",
        ")"
      ],
      "metadata": {
        "id": "dTn8x7VGaSjT"
      },
      "execution_count": 13,
      "outputs": []
    },
    {
      "cell_type": "code",
      "source": [
        " content_features = pd.concat([category_df, author_df, reading_time_df], axis=1)"
      ],
      "metadata": {
        "id": "Y8Ph1RFYaY08"
      },
      "execution_count": 21,
      "outputs": []
    },
    {
      "cell_type": "code",
      "source": [
        "content_features = content_features.astype(np.float64)"
      ],
      "metadata": {
        "id": "jY0Vry1cefoz"
      },
      "execution_count": 22,
      "outputs": []
    },
    {
      "cell_type": "code",
      "source": [
        "content_features_sparse = csr_matrix(content_features.values)"
      ],
      "metadata": {
        "id": "hPSulmD9acNQ"
      },
      "execution_count": 23,
      "outputs": []
    },
    {
      "cell_type": "code",
      "source": [
        "current_date = metadata['updated_at'].max()\n",
        "metadata['days_since_published'] = (current_date - metadata['published_at']).dt.days\n",
        "metadata['recency_score'] = 1 - (metadata['days_since_published'] / metadata['days_since_published'].max())"
      ],
      "metadata": {
        "id": "rfFbXu1jagID"
      },
      "execution_count": 24,
      "outputs": []
    },
    {
      "cell_type": "code",
      "source": [
        "pratilipi_engagement = user_interactions.groupby('pratilipi_id')['read_percent'].mean()"
      ],
      "metadata": {
        "id": "OWHRr45aa7qY"
      },
      "execution_count": 25,
      "outputs": []
    },
    {
      "cell_type": "code",
      "source": [
        "popularity_df = pd.DataFrame(index=metadata['pratilipi_id'].unique())\n",
        "# Use groupby and mean to consolidate 'recency_score' for duplicate 'pratilipi_id'\n",
        "popularity_df['recency_score'] = metadata.groupby('pratilipi_id')['recency_score'].mean()\n",
        "popularity_df['engagement_score'] = pratilipi_engagement\n",
        "popularity_df = popularity_df.fillna(0)\n",
        "popularity_df['popularity_score'] = (0.7 * popularity_df['engagement_score'] +\n",
        "                                    0.3 * popularity_df['recency_score'])"
      ],
      "metadata": {
        "id": "3hGjFtVdbARp"
      },
      "execution_count": 27,
      "outputs": []
    },
    {
      "cell_type": "code",
      "source": [
        "# Pre-compute user history for faster lookups\n",
        "user_history_dict = {}\n",
        "for user_id in user_interactions['user_id'].unique():\n",
        "    user_history_dict[user_id] = set(user_interactions[user_interactions['user_id'] == user_id]['pratilipi_id'].unique())"
      ],
      "metadata": {
        "id": "2YLBvuqFbFlS"
      },
      "execution_count": 28,
      "outputs": []
    },
    {
      "cell_type": "code",
      "source": [
        "def recommend_pratilipis(user_id, n_recommendations=5, top_similar_items=50):\n",
        "    \"\"\"\n",
        "    Memory-efficient recommendation function that avoids creating large matrices\n",
        "    \"\"\"\n",
        "    # Get user history\n",
        "    user_history = user_history_dict.get(user_id, set())\n",
        "\n",
        "    # If no history, return popular items\n",
        "    if not user_history:\n",
        "        top_popular = popularity_df.sort_values('popularity_score', ascending=False)\n",
        "        return top_popular.index[:n_recommendations].tolist()\n",
        "\n",
        "    # Get candidate items (most popular items + we'll add more below)\n",
        "    candidates = set(popularity_df.sort_values('popularity_score', ascending=False).index[:100])\n",
        "\n",
        "    # Add content-based recommendations for each item in user history\n",
        "    for hist_item in user_history:\n",
        "        # Skip if item not in our features\n",
        "        if hist_item not in content_features.index:\n",
        "            continue\n",
        "\n",
        "        # Get item features\n",
        "        item_features = content_features.loc[hist_item].values.reshape(1, -1)\n",
        "\n",
        "        # Calculate similarity with all items\n",
        "        if isinstance(item_features, np.ndarray) and item_features.size > 0:\n",
        "            item_sparse = csr_matrix(item_features)\n",
        "            sims = cosine_similarity(item_sparse, content_features_sparse).flatten()\n",
        "\n",
        "            # Get top similar items\n",
        "            similar_indices = np.argsort(sims)[-top_similar_items:]\n",
        "            similar_items = [content_features.index[i] for i in similar_indices\n",
        "                            if content_features.index[i] != hist_item]\n",
        "\n",
        "            # Add to candidates\n",
        "            candidates.update(similar_items)\n",
        "\n",
        "    # Remove items user has already read\n",
        "    candidates = candidates - user_history\n",
        "\n",
        "    # Score candidates using the three components\n",
        "    scores = []\n",
        "    for item_id in candidates:\n",
        "        # 1. Collaborative filtering score\n",
        "        try:\n",
        "            cf_score = svd_model.predict(user_id, item_id).est / 100  # Normalize to 0-1\n",
        "        except:\n",
        "            cf_score = 0\n",
        "\n",
        "        # 2. Content-based score (average similarity with user history)\n",
        "        cb_scores = []\n",
        "        for hist_item in user_history:\n",
        "            if hist_item in content_features.index and item_id in content_features.index:\n",
        "                hist_features = content_features.loc[hist_item].values.reshape(1, -1)\n",
        "                item_features = content_features.loc[item_id].values.reshape(1, -1)\n",
        "\n",
        "                if isinstance(hist_features, np.ndarray) and hist_features.size > 0:\n",
        "                    similarity = cosine_similarity(hist_features, item_features)[0][0]\n",
        "                    cb_scores.append(similarity)\n",
        "\n",
        "        cb_score = np.mean(cb_scores) if cb_scores else 0\n",
        "\n",
        "        # 3. Popularity score\n",
        "        pop_score = popularity_df.loc[item_id, 'popularity_score'] if item_id in popularity_df.index else 0\n",
        "\n",
        "        # Calculate final score as weighted sum\n",
        "        final_score = (0.7 * cf_score) + (0.2 * cb_score) + (0.1 * pop_score)\n",
        "        scores.append((item_id, final_score))\n",
        "\n",
        "    # Sort by score and return top N\n",
        "    scores.sort(key=lambda x: x[1], reverse=True)\n",
        "    recommendations = [item_id for item_id, _ in scores[:n_recommendations]]\n",
        "\n",
        "    return recommendations\n"
      ],
      "metadata": {
        "id": "hrPHdF3rbI1f"
      },
      "execution_count": 29,
      "outputs": []
    },
    {
      "cell_type": "code",
      "source": [
        "def evaluate_recommendations(test_users, k=5):\n",
        "    hit_count = 0\n",
        "    total_count = 0\n",
        "\n",
        "    for user_id in test_users:\n",
        "        # Get test items for user\n",
        "        # Modified to access tuple elements by index\n",
        "        user_test_items = set([row[1] for row in testset if row[0] == user_id])\n",
        "        print(user_test_items)\n",
        "        if user_test_items:\n",
        "            # Get recommendations\n",
        "            recommendations = recommend_pratilipis(user_id, n_recommendations=k)\n",
        "\n",
        "            # Count hits\n",
        "            hits = set(recommendations) & user_test_items\n",
        "            hit_count += len(hits)\n",
        "\n",
        "\n",
        "    hit_rate = hit_count\n",
        "    return hit_rate"
      ],
      "metadata": {
        "id": "tpX7Vf9_bMBA"
      },
      "execution_count": 37,
      "outputs": []
    },
    {
      "cell_type": "code",
      "source": [
        "sample_user = user_interactions['user_id'].iloc[0]\n",
        "print(type(sample_user))\n",
        "recommendations = recommend_pratilipis(sample_user)\n",
        "print(f\"Recommended pratilipis for user {sample_user}: {recommendations}\")\n",
        "hit_rate = evaluate_recommendations([sample_user])\n",
        "print(f\"Hit rate: {hit_rate:.4f}\")"
      ],
      "metadata": {
        "colab": {
          "base_uri": "https://localhost:8080/"
        },
        "id": "sbrrpwn4bVa1",
        "outputId": "81bb58a1-ed50-458d-dcb2-2a7edf311424"
      },
      "execution_count": 50,
      "outputs": [
        {
          "output_type": "stream",
          "name": "stdout",
          "text": [
            "<class 'numpy.int64'>\n",
            "Recommended pratilipis for user 5506791961876448: [1377786228240459, 1377786228186211, 1377786228172971, 1377786228184553, 1377786228263313]\n",
            "{1377786228262109}\n",
            "Hit rate: 0.0000\n"
          ]
        }
      ]
    },
    {
      "cell_type": "code",
      "source": [],
      "metadata": {
        "id": "t6Gede6GiNPF"
      },
      "execution_count": null,
      "outputs": []
    }
  ]
}